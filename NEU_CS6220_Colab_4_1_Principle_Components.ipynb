{
  "nbformat": 4,
  "nbformat_minor": 0,
  "metadata": {
    "colab": {
      "provenance": []
    },
    "kernelspec": {
      "name": "python3",
      "display_name": "Python 3"
    },
    "language_info": {
      "name": "python"
    }
  },
  "cells": [
    {
      "cell_type": "code",
      "source": [
        "import pandas as pd\n",
        "\n",
        "!wget https://course.ccs.neu.edu/cs6220/lecture-labs/lecture-3/abalone.csv"
      ],
      "metadata": {
        "colab": {
          "base_uri": "https://localhost:8080/"
        },
        "id": "Qz1zVnbqwJhF",
        "outputId": "27827cd8-6d24-491c-e4f3-856e832d77c1"
      },
      "execution_count": 1,
      "outputs": [
        {
          "output_type": "stream",
          "name": "stdout",
          "text": [
            "--2023-02-02 02:58:32--  https://course.ccs.neu.edu/cs6220/lecture-labs/lecture-3/abalone.csv\n",
            "Resolving course.ccs.neu.edu (course.ccs.neu.edu)... 129.10.117.35\n",
            "Connecting to course.ccs.neu.edu (course.ccs.neu.edu)|129.10.117.35|:443... connected.\n",
            "HTTP request sent, awaiting response... 200 OK\n",
            "Length: 191962 (187K) [text/csv]\n",
            "Saving to: ‘abalone.csv’\n",
            "\n",
            "abalone.csv         100%[===================>] 187.46K   719KB/s    in 0.3s    \n",
            "\n",
            "2023-02-02 02:58:32 (719 KB/s) - ‘abalone.csv’ saved [191962/191962]\n",
            "\n"
          ]
        }
      ]
    },
    {
      "cell_type": "markdown",
      "source": [
        "# Read in Abalone data"
      ],
      "metadata": {
        "id": "paHllXrD0paL"
      }
    },
    {
      "cell_type": "code",
      "source": [
        "df = pd.read_csv(\"abalone.csv\")"
      ],
      "metadata": {
        "id": "MDXfwqQrwNBO"
      },
      "execution_count": 2,
      "outputs": []
    },
    {
      "cell_type": "markdown",
      "source": [
        "# Explore the data\n",
        "\n",
        "In this lab, you're going to drop features and scatter the points after projecting along 2 principle components axes.\n",
        "\n",
        "For example, you may drop columns in `Pandas` by typing \n",
        "\n",
        "\n",
        "1. Prune the data. Drop columns `Sex` and/or `Rings`. \\\n",
        "   ```matrix = df.loc[:, df.columns != \"Sex\"]```\n",
        "\n",
        "1. Calculate the covariance matrix. You can calculate the covariance matrix via: \\\n",
        "   $$Cov(X_i, X_j) = \\mathbb{E}[(X_i - \\mu_{x_i})(X_j - \\mu_{x_j})^T]$$\n",
        "\n",
        "1. Calculate the first two components of PCA. You can feel free to use `np.linalg.eig`.\n",
        "\n",
        "1. Verify the principle components. To calculate PCA, feel free to use the PCA function from `scikit.learn`. \\\n",
        "\n",
        "  ```\n",
        "  from sklearn.decomposition import PCA\n",
        "  # Two components of PCA\n",
        "  pca = PCA(2)\n",
        "\n",
        "  # Fit on data\n",
        "  pca.fit(A)\n",
        "\n",
        "  # Access values and vectors\n",
        "  print(pca.components_)\n",
        "  print(pca.explained_variance_)\n",
        "\n",
        "  # transform data\n",
        "  B = pca.transform(A)\n",
        "  print(B)\n",
        "  ```\n",
        "\n",
        "1. Scatter the data to view it in two dimensions"
      ],
      "metadata": {
        "id": "XRByH8x90udO"
      }
    },
    {
      "cell_type": "code",
      "source": [
        "df"
      ],
      "metadata": {
        "id": "AOIg-hxTEMv1",
        "outputId": "3d34c4b3-9dff-4232-c05c-5178d3f7cd87",
        "colab": {
          "base_uri": "https://localhost:8080/",
          "height": 423
        }
      },
      "execution_count": 3,
      "outputs": [
        {
          "output_type": "execute_result",
          "data": {
            "text/plain": [
              "     Sex  Length  Diameter  Height  Whole weight  Shucked weight  \\\n",
              "0      M   0.455     0.365   0.095        0.5140          0.2245   \n",
              "1      M   0.350     0.265   0.090        0.2255          0.0995   \n",
              "2      F   0.530     0.420   0.135        0.6770          0.2565   \n",
              "3      M   0.440     0.365   0.125        0.5160          0.2155   \n",
              "4      I   0.330     0.255   0.080        0.2050          0.0895   \n",
              "...   ..     ...       ...     ...           ...             ...   \n",
              "4172   F   0.565     0.450   0.165        0.8870          0.3700   \n",
              "4173   M   0.590     0.440   0.135        0.9660          0.4390   \n",
              "4174   M   0.600     0.475   0.205        1.1760          0.5255   \n",
              "4175   F   0.625     0.485   0.150        1.0945          0.5310   \n",
              "4176   M   0.710     0.555   0.195        1.9485          0.9455   \n",
              "\n",
              "      Viscera weight  Shell weight  Rings  \n",
              "0             0.1010        0.1500     15  \n",
              "1             0.0485        0.0700      7  \n",
              "2             0.1415        0.2100      9  \n",
              "3             0.1140        0.1550     10  \n",
              "4             0.0395        0.0550      7  \n",
              "...              ...           ...    ...  \n",
              "4172          0.2390        0.2490     11  \n",
              "4173          0.2145        0.2605     10  \n",
              "4174          0.2875        0.3080      9  \n",
              "4175          0.2610        0.2960     10  \n",
              "4176          0.3765        0.4950     12  \n",
              "\n",
              "[4177 rows x 9 columns]"
            ],
            "text/html": [
              "\n",
              "  <div id=\"df-25becbb5-bdea-4fa0-8507-f9be6bf97cb2\">\n",
              "    <div class=\"colab-df-container\">\n",
              "      <div>\n",
              "<style scoped>\n",
              "    .dataframe tbody tr th:only-of-type {\n",
              "        vertical-align: middle;\n",
              "    }\n",
              "\n",
              "    .dataframe tbody tr th {\n",
              "        vertical-align: top;\n",
              "    }\n",
              "\n",
              "    .dataframe thead th {\n",
              "        text-align: right;\n",
              "    }\n",
              "</style>\n",
              "<table border=\"1\" class=\"dataframe\">\n",
              "  <thead>\n",
              "    <tr style=\"text-align: right;\">\n",
              "      <th></th>\n",
              "      <th>Sex</th>\n",
              "      <th>Length</th>\n",
              "      <th>Diameter</th>\n",
              "      <th>Height</th>\n",
              "      <th>Whole weight</th>\n",
              "      <th>Shucked weight</th>\n",
              "      <th>Viscera weight</th>\n",
              "      <th>Shell weight</th>\n",
              "      <th>Rings</th>\n",
              "    </tr>\n",
              "  </thead>\n",
              "  <tbody>\n",
              "    <tr>\n",
              "      <th>0</th>\n",
              "      <td>M</td>\n",
              "      <td>0.455</td>\n",
              "      <td>0.365</td>\n",
              "      <td>0.095</td>\n",
              "      <td>0.5140</td>\n",
              "      <td>0.2245</td>\n",
              "      <td>0.1010</td>\n",
              "      <td>0.1500</td>\n",
              "      <td>15</td>\n",
              "    </tr>\n",
              "    <tr>\n",
              "      <th>1</th>\n",
              "      <td>M</td>\n",
              "      <td>0.350</td>\n",
              "      <td>0.265</td>\n",
              "      <td>0.090</td>\n",
              "      <td>0.2255</td>\n",
              "      <td>0.0995</td>\n",
              "      <td>0.0485</td>\n",
              "      <td>0.0700</td>\n",
              "      <td>7</td>\n",
              "    </tr>\n",
              "    <tr>\n",
              "      <th>2</th>\n",
              "      <td>F</td>\n",
              "      <td>0.530</td>\n",
              "      <td>0.420</td>\n",
              "      <td>0.135</td>\n",
              "      <td>0.6770</td>\n",
              "      <td>0.2565</td>\n",
              "      <td>0.1415</td>\n",
              "      <td>0.2100</td>\n",
              "      <td>9</td>\n",
              "    </tr>\n",
              "    <tr>\n",
              "      <th>3</th>\n",
              "      <td>M</td>\n",
              "      <td>0.440</td>\n",
              "      <td>0.365</td>\n",
              "      <td>0.125</td>\n",
              "      <td>0.5160</td>\n",
              "      <td>0.2155</td>\n",
              "      <td>0.1140</td>\n",
              "      <td>0.1550</td>\n",
              "      <td>10</td>\n",
              "    </tr>\n",
              "    <tr>\n",
              "      <th>4</th>\n",
              "      <td>I</td>\n",
              "      <td>0.330</td>\n",
              "      <td>0.255</td>\n",
              "      <td>0.080</td>\n",
              "      <td>0.2050</td>\n",
              "      <td>0.0895</td>\n",
              "      <td>0.0395</td>\n",
              "      <td>0.0550</td>\n",
              "      <td>7</td>\n",
              "    </tr>\n",
              "    <tr>\n",
              "      <th>...</th>\n",
              "      <td>...</td>\n",
              "      <td>...</td>\n",
              "      <td>...</td>\n",
              "      <td>...</td>\n",
              "      <td>...</td>\n",
              "      <td>...</td>\n",
              "      <td>...</td>\n",
              "      <td>...</td>\n",
              "      <td>...</td>\n",
              "    </tr>\n",
              "    <tr>\n",
              "      <th>4172</th>\n",
              "      <td>F</td>\n",
              "      <td>0.565</td>\n",
              "      <td>0.450</td>\n",
              "      <td>0.165</td>\n",
              "      <td>0.8870</td>\n",
              "      <td>0.3700</td>\n",
              "      <td>0.2390</td>\n",
              "      <td>0.2490</td>\n",
              "      <td>11</td>\n",
              "    </tr>\n",
              "    <tr>\n",
              "      <th>4173</th>\n",
              "      <td>M</td>\n",
              "      <td>0.590</td>\n",
              "      <td>0.440</td>\n",
              "      <td>0.135</td>\n",
              "      <td>0.9660</td>\n",
              "      <td>0.4390</td>\n",
              "      <td>0.2145</td>\n",
              "      <td>0.2605</td>\n",
              "      <td>10</td>\n",
              "    </tr>\n",
              "    <tr>\n",
              "      <th>4174</th>\n",
              "      <td>M</td>\n",
              "      <td>0.600</td>\n",
              "      <td>0.475</td>\n",
              "      <td>0.205</td>\n",
              "      <td>1.1760</td>\n",
              "      <td>0.5255</td>\n",
              "      <td>0.2875</td>\n",
              "      <td>0.3080</td>\n",
              "      <td>9</td>\n",
              "    </tr>\n",
              "    <tr>\n",
              "      <th>4175</th>\n",
              "      <td>F</td>\n",
              "      <td>0.625</td>\n",
              "      <td>0.485</td>\n",
              "      <td>0.150</td>\n",
              "      <td>1.0945</td>\n",
              "      <td>0.5310</td>\n",
              "      <td>0.2610</td>\n",
              "      <td>0.2960</td>\n",
              "      <td>10</td>\n",
              "    </tr>\n",
              "    <tr>\n",
              "      <th>4176</th>\n",
              "      <td>M</td>\n",
              "      <td>0.710</td>\n",
              "      <td>0.555</td>\n",
              "      <td>0.195</td>\n",
              "      <td>1.9485</td>\n",
              "      <td>0.9455</td>\n",
              "      <td>0.3765</td>\n",
              "      <td>0.4950</td>\n",
              "      <td>12</td>\n",
              "    </tr>\n",
              "  </tbody>\n",
              "</table>\n",
              "<p>4177 rows × 9 columns</p>\n",
              "</div>\n",
              "      <button class=\"colab-df-convert\" onclick=\"convertToInteractive('df-25becbb5-bdea-4fa0-8507-f9be6bf97cb2')\"\n",
              "              title=\"Convert this dataframe to an interactive table.\"\n",
              "              style=\"display:none;\">\n",
              "        \n",
              "  <svg xmlns=\"http://www.w3.org/2000/svg\" height=\"24px\"viewBox=\"0 0 24 24\"\n",
              "       width=\"24px\">\n",
              "    <path d=\"M0 0h24v24H0V0z\" fill=\"none\"/>\n",
              "    <path d=\"M18.56 5.44l.94 2.06.94-2.06 2.06-.94-2.06-.94-.94-2.06-.94 2.06-2.06.94zm-11 1L8.5 8.5l.94-2.06 2.06-.94-2.06-.94L8.5 2.5l-.94 2.06-2.06.94zm10 10l.94 2.06.94-2.06 2.06-.94-2.06-.94-.94-2.06-.94 2.06-2.06.94z\"/><path d=\"M17.41 7.96l-1.37-1.37c-.4-.4-.92-.59-1.43-.59-.52 0-1.04.2-1.43.59L10.3 9.45l-7.72 7.72c-.78.78-.78 2.05 0 2.83L4 21.41c.39.39.9.59 1.41.59.51 0 1.02-.2 1.41-.59l7.78-7.78 2.81-2.81c.8-.78.8-2.07 0-2.86zM5.41 20L4 18.59l7.72-7.72 1.47 1.35L5.41 20z\"/>\n",
              "  </svg>\n",
              "      </button>\n",
              "      \n",
              "  <style>\n",
              "    .colab-df-container {\n",
              "      display:flex;\n",
              "      flex-wrap:wrap;\n",
              "      gap: 12px;\n",
              "    }\n",
              "\n",
              "    .colab-df-convert {\n",
              "      background-color: #E8F0FE;\n",
              "      border: none;\n",
              "      border-radius: 50%;\n",
              "      cursor: pointer;\n",
              "      display: none;\n",
              "      fill: #1967D2;\n",
              "      height: 32px;\n",
              "      padding: 0 0 0 0;\n",
              "      width: 32px;\n",
              "    }\n",
              "\n",
              "    .colab-df-convert:hover {\n",
              "      background-color: #E2EBFA;\n",
              "      box-shadow: 0px 1px 2px rgba(60, 64, 67, 0.3), 0px 1px 3px 1px rgba(60, 64, 67, 0.15);\n",
              "      fill: #174EA6;\n",
              "    }\n",
              "\n",
              "    [theme=dark] .colab-df-convert {\n",
              "      background-color: #3B4455;\n",
              "      fill: #D2E3FC;\n",
              "    }\n",
              "\n",
              "    [theme=dark] .colab-df-convert:hover {\n",
              "      background-color: #434B5C;\n",
              "      box-shadow: 0px 1px 3px 1px rgba(0, 0, 0, 0.15);\n",
              "      filter: drop-shadow(0px 1px 2px rgba(0, 0, 0, 0.3));\n",
              "      fill: #FFFFFF;\n",
              "    }\n",
              "  </style>\n",
              "\n",
              "      <script>\n",
              "        const buttonEl =\n",
              "          document.querySelector('#df-25becbb5-bdea-4fa0-8507-f9be6bf97cb2 button.colab-df-convert');\n",
              "        buttonEl.style.display =\n",
              "          google.colab.kernel.accessAllowed ? 'block' : 'none';\n",
              "\n",
              "        async function convertToInteractive(key) {\n",
              "          const element = document.querySelector('#df-25becbb5-bdea-4fa0-8507-f9be6bf97cb2');\n",
              "          const dataTable =\n",
              "            await google.colab.kernel.invokeFunction('convertToInteractive',\n",
              "                                                     [key], {});\n",
              "          if (!dataTable) return;\n",
              "\n",
              "          const docLinkHtml = 'Like what you see? Visit the ' +\n",
              "            '<a target=\"_blank\" href=https://colab.research.google.com/notebooks/data_table.ipynb>data table notebook</a>'\n",
              "            + ' to learn more about interactive tables.';\n",
              "          element.innerHTML = '';\n",
              "          dataTable['output_type'] = 'display_data';\n",
              "          await google.colab.output.renderOutput(dataTable, element);\n",
              "          const docLink = document.createElement('div');\n",
              "          docLink.innerHTML = docLinkHtml;\n",
              "          element.appendChild(docLink);\n",
              "        }\n",
              "      </script>\n",
              "    </div>\n",
              "  </div>\n",
              "  "
            ]
          },
          "metadata": {},
          "execution_count": 3
        }
      ]
    },
    {
      "cell_type": "code",
      "source": [
        "from sklearn.decomposition import PCA\n",
        "import matplotlib.pyplot as plt\n",
        "import numpy as np"
      ],
      "metadata": {
        "id": "GRi456zu2QCr"
      },
      "execution_count": 27,
      "outputs": []
    },
    {
      "cell_type": "code",
      "source": [
        "matrix = df.loc[:, df.columns != \"Sex\"]"
      ],
      "metadata": {
        "id": "zEt8TCtFFsuw"
      },
      "execution_count": 16,
      "outputs": []
    },
    {
      "cell_type": "code",
      "source": [
        "pca = PCA(2)\n",
        "pca.fit(matrix)"
      ],
      "metadata": {
        "id": "2Z1HOKunEXRb"
      },
      "execution_count": 17,
      "outputs": []
    },
    {
      "cell_type": "code",
      "source": [
        "print(pca.components_)"
      ],
      "metadata": {
        "id": "cZTVPwI2FGGI",
        "outputId": "32c0efe6-2025-467a-b66a-dd577a811e54",
        "colab": {
          "base_uri": "https://localhost:8080/"
        }
      },
      "execution_count": 19,
      "outputs": [
        {
          "output_type": "stream",
          "name": "stdout",
          "text": [
            "[[ 0.02105132  0.01794012  0.0073163   0.08368049  0.02973466  0.01745992\n",
            "   0.02743115  0.99510682]\n",
            " [ 0.18305275  0.14880419  0.05245956  0.83446131  0.3999516   0.18325279\n",
            "   0.20527245 -0.0979371 ]]\n"
          ]
        }
      ]
    },
    {
      "cell_type": "code",
      "source": [
        "print(pca.explained_variance_)"
      ],
      "metadata": {
        "id": "ch3WAlcMFP1y",
        "outputId": "813c4d7e-df1e-4f54-8d4e-bfc8416abdf0",
        "colab": {
          "base_uri": "https://localhost:8080/"
        }
      },
      "execution_count": 20,
      "outputs": [
        {
          "output_type": "stream",
          "name": "stdout",
          "text": [
            "[10.49543138  0.23926882]\n"
          ]
        }
      ]
    },
    {
      "cell_type": "code",
      "source": [
        "df_pca = pca.transform(matrix)"
      ],
      "metadata": {
        "id": "kktmocCqFWmh"
      },
      "execution_count": 21,
      "outputs": []
    },
    {
      "cell_type": "code",
      "source": [
        "print(df_pca)"
      ],
      "metadata": {
        "id": "8g3bJsDuFeEP",
        "outputId": "8631b00c-271d-4d45-852f-6cf1d9919bef",
        "colab": {
          "base_uri": "https://localhost:8080/"
        }
      },
      "execution_count": 22,
      "outputs": [
        {
          "output_type": "stream",
          "name": "stdout",
          "text": [
            "[[ 5.00480331 -0.86692655]\n",
            " [-2.99106199 -0.43457164]\n",
            " [-0.94603495 -0.08673867]\n",
            " ...\n",
            " [-0.88806992  0.5087862 ]\n",
            " [ 0.0998919   0.34089986]\n",
            " [ 2.18474351  1.11378693]]\n"
          ]
        }
      ]
    },
    {
      "cell_type": "code",
      "source": [
        "plt.scatter()"
      ],
      "metadata": {
        "id": "sgpw5kZdOOfF"
      },
      "execution_count": null,
      "outputs": []
    },
    {
      "cell_type": "code",
      "source": [
        "matrix.cov()"
      ],
      "metadata": {
        "id": "9vXDqm0qI8R2",
        "outputId": "d8a2b79e-0c7d-4833-c329-b4243a5ee42e",
        "colab": {
          "base_uri": "https://localhost:8080/",
          "height": 300
        }
      },
      "execution_count": 41,
      "outputs": [
        {
          "output_type": "execute_result",
          "data": {
            "text/plain": [
              "                  Length  Diameter    Height  Whole weight  Shucked weight  \\\n",
              "Length          0.014422  0.011761  0.004157      0.054491        0.023935   \n",
              "Diameter        0.011761  0.009849  0.003461      0.045038        0.019674   \n",
              "Height          0.004157  0.003461  0.001750      0.016803        0.007195   \n",
              "Whole weight    0.054491  0.045038  0.016803      0.240481        0.105518   \n",
              "Shucked weight  0.023935  0.019674  0.007195      0.105518        0.049268   \n",
              "Viscera weight  0.011887  0.009787  0.003660      0.051946        0.022675   \n",
              "Shell weight    0.015007  0.012507  0.004759      0.065216        0.027271   \n",
              "Rings           0.215562  0.183872  0.075179      0.854409        0.301204   \n",
              "\n",
              "                Viscera weight  Shell weight      Rings  \n",
              "Length                0.011887      0.015007   0.215562  \n",
              "Diameter              0.009787      0.012507   0.183872  \n",
              "Height                0.003660      0.004759   0.075179  \n",
              "Whole weight          0.051946      0.065216   0.854409  \n",
              "Shucked weight        0.022675      0.027271   0.301204  \n",
              "Viscera weight        0.012015      0.013850   0.178057  \n",
              "Shell weight          0.013850      0.019377   0.281663  \n",
              "Rings                 0.178057      0.281663  10.395266  "
            ],
            "text/html": [
              "\n",
              "  <div id=\"df-f6ea25ba-88f0-4a59-9565-e8572e6cc82b\">\n",
              "    <div class=\"colab-df-container\">\n",
              "      <div>\n",
              "<style scoped>\n",
              "    .dataframe tbody tr th:only-of-type {\n",
              "        vertical-align: middle;\n",
              "    }\n",
              "\n",
              "    .dataframe tbody tr th {\n",
              "        vertical-align: top;\n",
              "    }\n",
              "\n",
              "    .dataframe thead th {\n",
              "        text-align: right;\n",
              "    }\n",
              "</style>\n",
              "<table border=\"1\" class=\"dataframe\">\n",
              "  <thead>\n",
              "    <tr style=\"text-align: right;\">\n",
              "      <th></th>\n",
              "      <th>Length</th>\n",
              "      <th>Diameter</th>\n",
              "      <th>Height</th>\n",
              "      <th>Whole weight</th>\n",
              "      <th>Shucked weight</th>\n",
              "      <th>Viscera weight</th>\n",
              "      <th>Shell weight</th>\n",
              "      <th>Rings</th>\n",
              "    </tr>\n",
              "  </thead>\n",
              "  <tbody>\n",
              "    <tr>\n",
              "      <th>Length</th>\n",
              "      <td>0.014422</td>\n",
              "      <td>0.011761</td>\n",
              "      <td>0.004157</td>\n",
              "      <td>0.054491</td>\n",
              "      <td>0.023935</td>\n",
              "      <td>0.011887</td>\n",
              "      <td>0.015007</td>\n",
              "      <td>0.215562</td>\n",
              "    </tr>\n",
              "    <tr>\n",
              "      <th>Diameter</th>\n",
              "      <td>0.011761</td>\n",
              "      <td>0.009849</td>\n",
              "      <td>0.003461</td>\n",
              "      <td>0.045038</td>\n",
              "      <td>0.019674</td>\n",
              "      <td>0.009787</td>\n",
              "      <td>0.012507</td>\n",
              "      <td>0.183872</td>\n",
              "    </tr>\n",
              "    <tr>\n",
              "      <th>Height</th>\n",
              "      <td>0.004157</td>\n",
              "      <td>0.003461</td>\n",
              "      <td>0.001750</td>\n",
              "      <td>0.016803</td>\n",
              "      <td>0.007195</td>\n",
              "      <td>0.003660</td>\n",
              "      <td>0.004759</td>\n",
              "      <td>0.075179</td>\n",
              "    </tr>\n",
              "    <tr>\n",
              "      <th>Whole weight</th>\n",
              "      <td>0.054491</td>\n",
              "      <td>0.045038</td>\n",
              "      <td>0.016803</td>\n",
              "      <td>0.240481</td>\n",
              "      <td>0.105518</td>\n",
              "      <td>0.051946</td>\n",
              "      <td>0.065216</td>\n",
              "      <td>0.854409</td>\n",
              "    </tr>\n",
              "    <tr>\n",
              "      <th>Shucked weight</th>\n",
              "      <td>0.023935</td>\n",
              "      <td>0.019674</td>\n",
              "      <td>0.007195</td>\n",
              "      <td>0.105518</td>\n",
              "      <td>0.049268</td>\n",
              "      <td>0.022675</td>\n",
              "      <td>0.027271</td>\n",
              "      <td>0.301204</td>\n",
              "    </tr>\n",
              "    <tr>\n",
              "      <th>Viscera weight</th>\n",
              "      <td>0.011887</td>\n",
              "      <td>0.009787</td>\n",
              "      <td>0.003660</td>\n",
              "      <td>0.051946</td>\n",
              "      <td>0.022675</td>\n",
              "      <td>0.012015</td>\n",
              "      <td>0.013850</td>\n",
              "      <td>0.178057</td>\n",
              "    </tr>\n",
              "    <tr>\n",
              "      <th>Shell weight</th>\n",
              "      <td>0.015007</td>\n",
              "      <td>0.012507</td>\n",
              "      <td>0.004759</td>\n",
              "      <td>0.065216</td>\n",
              "      <td>0.027271</td>\n",
              "      <td>0.013850</td>\n",
              "      <td>0.019377</td>\n",
              "      <td>0.281663</td>\n",
              "    </tr>\n",
              "    <tr>\n",
              "      <th>Rings</th>\n",
              "      <td>0.215562</td>\n",
              "      <td>0.183872</td>\n",
              "      <td>0.075179</td>\n",
              "      <td>0.854409</td>\n",
              "      <td>0.301204</td>\n",
              "      <td>0.178057</td>\n",
              "      <td>0.281663</td>\n",
              "      <td>10.395266</td>\n",
              "    </tr>\n",
              "  </tbody>\n",
              "</table>\n",
              "</div>\n",
              "      <button class=\"colab-df-convert\" onclick=\"convertToInteractive('df-f6ea25ba-88f0-4a59-9565-e8572e6cc82b')\"\n",
              "              title=\"Convert this dataframe to an interactive table.\"\n",
              "              style=\"display:none;\">\n",
              "        \n",
              "  <svg xmlns=\"http://www.w3.org/2000/svg\" height=\"24px\"viewBox=\"0 0 24 24\"\n",
              "       width=\"24px\">\n",
              "    <path d=\"M0 0h24v24H0V0z\" fill=\"none\"/>\n",
              "    <path d=\"M18.56 5.44l.94 2.06.94-2.06 2.06-.94-2.06-.94-.94-2.06-.94 2.06-2.06.94zm-11 1L8.5 8.5l.94-2.06 2.06-.94-2.06-.94L8.5 2.5l-.94 2.06-2.06.94zm10 10l.94 2.06.94-2.06 2.06-.94-2.06-.94-.94-2.06-.94 2.06-2.06.94z\"/><path d=\"M17.41 7.96l-1.37-1.37c-.4-.4-.92-.59-1.43-.59-.52 0-1.04.2-1.43.59L10.3 9.45l-7.72 7.72c-.78.78-.78 2.05 0 2.83L4 21.41c.39.39.9.59 1.41.59.51 0 1.02-.2 1.41-.59l7.78-7.78 2.81-2.81c.8-.78.8-2.07 0-2.86zM5.41 20L4 18.59l7.72-7.72 1.47 1.35L5.41 20z\"/>\n",
              "  </svg>\n",
              "      </button>\n",
              "      \n",
              "  <style>\n",
              "    .colab-df-container {\n",
              "      display:flex;\n",
              "      flex-wrap:wrap;\n",
              "      gap: 12px;\n",
              "    }\n",
              "\n",
              "    .colab-df-convert {\n",
              "      background-color: #E8F0FE;\n",
              "      border: none;\n",
              "      border-radius: 50%;\n",
              "      cursor: pointer;\n",
              "      display: none;\n",
              "      fill: #1967D2;\n",
              "      height: 32px;\n",
              "      padding: 0 0 0 0;\n",
              "      width: 32px;\n",
              "    }\n",
              "\n",
              "    .colab-df-convert:hover {\n",
              "      background-color: #E2EBFA;\n",
              "      box-shadow: 0px 1px 2px rgba(60, 64, 67, 0.3), 0px 1px 3px 1px rgba(60, 64, 67, 0.15);\n",
              "      fill: #174EA6;\n",
              "    }\n",
              "\n",
              "    [theme=dark] .colab-df-convert {\n",
              "      background-color: #3B4455;\n",
              "      fill: #D2E3FC;\n",
              "    }\n",
              "\n",
              "    [theme=dark] .colab-df-convert:hover {\n",
              "      background-color: #434B5C;\n",
              "      box-shadow: 0px 1px 3px 1px rgba(0, 0, 0, 0.15);\n",
              "      filter: drop-shadow(0px 1px 2px rgba(0, 0, 0, 0.3));\n",
              "      fill: #FFFFFF;\n",
              "    }\n",
              "  </style>\n",
              "\n",
              "      <script>\n",
              "        const buttonEl =\n",
              "          document.querySelector('#df-f6ea25ba-88f0-4a59-9565-e8572e6cc82b button.colab-df-convert');\n",
              "        buttonEl.style.display =\n",
              "          google.colab.kernel.accessAllowed ? 'block' : 'none';\n",
              "\n",
              "        async function convertToInteractive(key) {\n",
              "          const element = document.querySelector('#df-f6ea25ba-88f0-4a59-9565-e8572e6cc82b');\n",
              "          const dataTable =\n",
              "            await google.colab.kernel.invokeFunction('convertToInteractive',\n",
              "                                                     [key], {});\n",
              "          if (!dataTable) return;\n",
              "\n",
              "          const docLinkHtml = 'Like what you see? Visit the ' +\n",
              "            '<a target=\"_blank\" href=https://colab.research.google.com/notebooks/data_table.ipynb>data table notebook</a>'\n",
              "            + ' to learn more about interactive tables.';\n",
              "          element.innerHTML = '';\n",
              "          dataTable['output_type'] = 'display_data';\n",
              "          await google.colab.output.renderOutput(dataTable, element);\n",
              "          const docLink = document.createElement('div');\n",
              "          docLink.innerHTML = docLinkHtml;\n",
              "          element.appendChild(docLink);\n",
              "        }\n",
              "      </script>\n",
              "    </div>\n",
              "  </div>\n",
              "  "
            ]
          },
          "metadata": {},
          "execution_count": 41
        }
      ]
    },
    {
      "cell_type": "code",
      "source": [
        "eig_val, eig_vec = np.linalg.eig(matrix.cov())"
      ],
      "metadata": {
        "id": "0p8Ns26THQZg"
      },
      "execution_count": 42,
      "outputs": []
    },
    {
      "cell_type": "code",
      "source": [
        "eig_val"
      ],
      "metadata": {
        "id": "JYztOcqeJgwk",
        "outputId": "49f59b4d-dd7a-4441-a22b-f25f10c8a882",
        "colab": {
          "base_uri": "https://localhost:8080/"
        }
      },
      "execution_count": 43,
      "outputs": [
        {
          "output_type": "execute_result",
          "data": {
            "text/plain": [
              "array([1.04954314e+01, 2.39268823e-01, 3.02087647e-03, 2.60218996e-03,\n",
              "       1.05068657e-03, 1.47688518e-04, 4.88782005e-04, 4.17493194e-04])"
            ]
          },
          "metadata": {},
          "execution_count": 43
        }
      ]
    },
    {
      "cell_type": "code",
      "source": [
        "eig_vec"
      ],
      "metadata": {
        "id": "YAV3ctxjJlZj",
        "outputId": "c620606a-b70c-41ae-9b76-8d21e5d4ee4b",
        "colab": {
          "base_uri": "https://localhost:8080/"
        }
      },
      "execution_count": 44,
      "outputs": [
        {
          "output_type": "execute_result",
          "data": {
            "text/plain": [
              "array([[-2.10513202e-02,  1.83052752e-01, -7.42040211e-01,\n",
              "         9.06887398e-02,  3.07007218e-02, -6.18893826e-01,\n",
              "         1.52311416e-01, -5.43508715e-03],\n",
              "       [-1.79401219e-02,  1.48804192e-01, -5.96175335e-01,\n",
              "         4.20854302e-02, -2.33409653e-02,  7.83141972e-01,\n",
              "         7.49734266e-02, -2.93613363e-02],\n",
              "       [-7.31629638e-03,  5.24595599e-02, -1.40358287e-01,\n",
              "        -3.71173260e-02, -1.45782231e-03, -4.21715859e-02,\n",
              "        -9.10437257e-01, -3.81365645e-01],\n",
              "       [-8.36804920e-02,  8.34461310e-01,  2.28847916e-01,\n",
              "        -2.20616051e-01,  1.25570884e-01, -2.50039224e-03,\n",
              "         1.82698066e-01, -3.82722100e-01],\n",
              "       [-2.97346596e-02,  3.99951598e-01,  1.36354791e-01,\n",
              "         7.54544047e-01, -3.31709499e-01,  5.43703582e-03,\n",
              "        -1.68819392e-01,  3.35655300e-01],\n",
              "       [-1.74599170e-02,  1.83252786e-01, -7.74498237e-03,\n",
              "        -7.33235758e-02,  7.56051666e-01,  2.91035964e-02,\n",
              "        -2.30202123e-01,  5.78984522e-01],\n",
              "       [-2.74311519e-02,  2.05272453e-01, -5.65032111e-02,\n",
              "        -6.04242412e-01, -5.48722324e-01, -3.15866047e-02,\n",
              "        -1.65567109e-01,  5.09217906e-01],\n",
              "       [-9.95106815e-01, -9.79370973e-02,  5.85253004e-03,\n",
              "         1.15443528e-02,  9.94904944e-04, -3.08222505e-04,\n",
              "         4.04147122e-04,  1.40655044e-03]])"
            ]
          },
          "metadata": {},
          "execution_count": 44
        }
      ]
    },
    {
      "cell_type": "code",
      "source": [
        "eig_val.argsort()"
      ],
      "metadata": {
        "id": "UnXwqh0yGVBu",
        "outputId": "cf56b4d2-fd79-46ea-e0b6-577b0d677768",
        "colab": {
          "base_uri": "https://localhost:8080/"
        }
      },
      "execution_count": 51,
      "outputs": [
        {
          "output_type": "execute_result",
          "data": {
            "text/plain": [
              "array([5, 7, 6, 4, 3, 2, 1, 0])"
            ]
          },
          "metadata": {},
          "execution_count": 51
        }
      ]
    },
    {
      "cell_type": "code",
      "source": [
        "pca1 = matrix @ eig_vec[0] "
      ],
      "metadata": {
        "id": "LRMs6A5nLz2X"
      },
      "execution_count": 57,
      "outputs": []
    },
    {
      "cell_type": "code",
      "source": [
        "pca2 = matrix @ eig_vec[1]"
      ],
      "metadata": {
        "id": "wMPQNicONDzx"
      },
      "execution_count": 58,
      "outputs": []
    },
    {
      "cell_type": "code",
      "source": [
        "print(eig_val[0], eig_val[1])"
      ],
      "metadata": {
        "id": "vrsybMa_NNm-",
        "outputId": "7b9652f7-d827-4643-f8bb-247bd9a3587c",
        "colab": {
          "base_uri": "https://localhost:8080/"
        }
      },
      "execution_count": 59,
      "outputs": [
        {
          "output_type": "stream",
          "name": "stdout",
          "text": [
            "10.495431376079713 0.23926882290481322\n"
          ]
        }
      ]
    },
    {
      "cell_type": "code",
      "source": [
        "plt.scatter(pca2, pca1)"
      ],
      "metadata": {
        "id": "ulm51TyjNIgy",
        "outputId": "c6a5c9ec-6ec7-4fca-af62-7cf0dab15013",
        "colab": {
          "base_uri": "https://localhost:8080/",
          "height": 282
        }
      },
      "execution_count": 61,
      "outputs": [
        {
          "output_type": "execute_result",
          "data": {
            "text/plain": [
              "<matplotlib.collections.PathCollection at 0x7f708e7c83d0>"
            ]
          },
          "metadata": {},
          "execution_count": 61
        },
        {
          "output_type": "display_data",
          "data": {
            "text/plain": [
              "<Figure size 432x288 with 1 Axes>"
            ],
            "image/png": "[encoded data removed]"
          },
          "metadata": {
            "needs_background": "light"
          }
        }
      ]
    }
  ]
}